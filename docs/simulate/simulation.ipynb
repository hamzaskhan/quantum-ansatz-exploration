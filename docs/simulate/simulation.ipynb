{
  "cells": [
    {
      "cell_type": "markdown",
      "metadata": {
        "id": "view-in-github",
        "colab_type": "text"
      },
      "source": [
        "<a href=\"https://colab.research.google.com/github/hamzaskhan/quantum-ansatz-exploration/blob/main/docs/simulate/simulation.ipynb\" target=\"_parent\"><img src=\"https://colab.research.google.com/assets/colab-badge.svg\" alt=\"Open In Colab\"/></a>"
      ]
    },
    {
      "cell_type": "markdown",
      "metadata": {
        "id": "gXXhctqjgXO7"
      },
      "source": [
        "##### Copyright 2020 The Cirq Developers"
      ]
    },
    {
      "cell_type": "code",
      "execution_count": null,
      "metadata": {
        "cellView": "form",
        "id": "z2RJVa8qgXou"
      },
      "outputs": [],
      "source": [
        "# @title Licensed under the Apache License, Version 2.0 (the \"License\");\n",
        "# you may not use this file except in compliance with the License.\n",
        "# You may obtain a copy of the License at\n",
        "#\n",
        "# https://www.apache.org/licenses/LICENSE-2.0\n",
        "#\n",
        "# Unless required by applicable law or agreed to in writing, software\n",
        "# distributed under the License is distributed on an \"AS IS\" BASIS,\n",
        "# WITHOUT WARRANTIES OR CONDITIONS OF ANY KIND, either express or implied.\n",
        "# See the License for the specific language governing permissions and\n",
        "# limitations under the License."
      ]
    },
    {
      "cell_type": "markdown",
      "source": [
        "# **Exploring Quantum Machine Learning: Impact of Ansatz Complexity on Classification Accuracy by Hamza Khan**\n",
        "\n",
        "[My github repo for this project](https://github.com/hamzaskhan/quantum-ansatz-exploration)"
      ],
      "metadata": {
        "id": "y-lr5C4KIjY2"
      }
    },
    {
      "cell_type": "markdown",
      "metadata": {
        "id": "EQvWLKKRgZR9"
      },
      "source": [
        "# Simulation"
      ]
    },
    {
      "cell_type": "markdown",
      "metadata": {
        "id": "EvZ_JecKga2p"
      },
      "source": [
        "<table class=\"tfo-notebook-buttons\" align=\"left\">\n",
        "  <td>\n",
        "    <a target=\"_blank\" href=\"https://quantumai.google/cirq/simulate/simulation\"><img src=\"https://quantumai.google/site-assets/images/buttons/quantumai_logo_1x.png\" />View on QuantumAI</a>\n",
        "  </td>\n",
        "  <td>\n",
        "    <a target=\"_blank\" href=\"https://colab.research.google.com/github/quantumlib/Cirq/blob/main/docs/simulate/simulation.ipynb\"><img src=\"https://quantumai.google/site-assets/images/buttons/colab_logo_1x.png\" />Run in Google Colab</a>\n",
        "  </td>\n",
        "  <td>\n",
        "    <a target=\"_blank\" href=\"https://github.com/quantumlib/Cirq/blob/main/docs/simulate/simulation.ipynb\"><img src=\"https://quantumai.google/site-assets/images/buttons/github_logo_1x.png\" />View source on GitHub</a>\n",
        "  </td>\n",
        "  <td>\n",
        "    <a href=\"https://storage.googleapis.com/tensorflow_docs/Cirq/docs/simulate/simulation.ipynb\"><img src=\"https://quantumai.google/site-assets/images/buttons/download_icon_1x.png\" />Download notebook</a>\n",
        "  </td>\n",
        "</table>"
      ]
    },
    {
      "cell_type": "code",
      "execution_count": 1,
      "metadata": {
        "id": "bd9529db1c0b",
        "outputId": "99084eaa-1e76-49e0-e5c6-db851b66578c",
        "colab": {
          "base_uri": "https://localhost:8080/"
        }
      },
      "outputs": [
        {
          "output_type": "stream",
          "name": "stdout",
          "text": [
            "installing cirq...\n",
            "\u001b[2K     \u001b[90m━━━━━━━━━━━━━━━━━━━━━━━━━━━━━━━━━━━━━━━━\u001b[0m \u001b[32m45.6/45.6 kB\u001b[0m \u001b[31m1.7 MB/s\u001b[0m eta \u001b[36m0:00:00\u001b[0m\n",
            "\u001b[?25h  Preparing metadata (setup.py) ... \u001b[?25l\u001b[?25hdone\n",
            "\u001b[2K   \u001b[90m━━━━━━━━━━━━━━━━━━━━━━━━━━━━━━━━━━━━━━━━\u001b[0m \u001b[32m1.9/1.9 MB\u001b[0m \u001b[31m22.9 MB/s\u001b[0m eta \u001b[36m0:00:00\u001b[0m\n",
            "\u001b[2K   \u001b[90m━━━━━━━━━━━━━━━━━━━━━━━━━━━━━━━━━━━━━━━━\u001b[0m \u001b[32m532.7/532.7 kB\u001b[0m \u001b[31m25.8 MB/s\u001b[0m eta \u001b[36m0:00:00\u001b[0m\n",
            "\u001b[2K   \u001b[90m━━━━━━━━━━━━━━━━━━━━━━━━━━━━━━━━━━━━━━━━\u001b[0m \u001b[32m60.5/60.5 kB\u001b[0m \u001b[31m3.8 MB/s\u001b[0m eta \u001b[36m0:00:00\u001b[0m\n",
            "\u001b[2K   \u001b[90m━━━━━━━━━━━━━━━━━━━━━━━━━━━━━━━━━━━━━━━━\u001b[0m \u001b[32m69.3/69.3 kB\u001b[0m \u001b[31m3.4 MB/s\u001b[0m eta \u001b[36m0:00:00\u001b[0m\n",
            "\u001b[2K   \u001b[90m━━━━━━━━━━━━━━━━━━━━━━━━━━━━━━━━━━━━━━━━\u001b[0m \u001b[32m596.5/596.5 kB\u001b[0m \u001b[31m23.3 MB/s\u001b[0m eta \u001b[36m0:00:00\u001b[0m\n",
            "\u001b[2K   \u001b[90m━━━━━━━━━━━━━━━━━━━━━━━━━━━━━━━━━━━━━━━━\u001b[0m \u001b[32m202.8/202.8 kB\u001b[0m \u001b[31m12.3 MB/s\u001b[0m eta \u001b[36m0:00:00\u001b[0m\n",
            "\u001b[2K   \u001b[90m━━━━━━━━━━━━━━━━━━━━━━━━━━━━━━━━━━━━━━━━\u001b[0m \u001b[32m53.0/53.0 kB\u001b[0m \u001b[31m3.3 MB/s\u001b[0m eta \u001b[36m0:00:00\u001b[0m\n",
            "\u001b[2K   \u001b[90m━━━━━━━━━━━━━━━━━━━━━━━━━━━━━━━━━━━━━━━━\u001b[0m \u001b[32m6.4/6.4 MB\u001b[0m \u001b[31m57.2 MB/s\u001b[0m eta \u001b[36m0:00:00\u001b[0m\n",
            "\u001b[2K   \u001b[90m━━━━━━━━━━━━━━━━━━━━━━━━━━━━━━━━━━━━━━━━\u001b[0m \u001b[32m2.2/2.2 MB\u001b[0m \u001b[31m50.7 MB/s\u001b[0m eta \u001b[36m0:00:00\u001b[0m\n",
            "\u001b[2K   \u001b[90m━━━━━━━━━━━━━━━━━━━━━━━━━━━━━━━━━━━━━━━━\u001b[0m \u001b[32m2.9/2.9 MB\u001b[0m \u001b[31m44.5 MB/s\u001b[0m eta \u001b[36m0:00:00\u001b[0m\n",
            "\u001b[2K   \u001b[90m━━━━━━━━━━━━━━━━━━━━━━━━━━━━━━━━━━━━━━━━\u001b[0m \u001b[32m1.7/1.7 MB\u001b[0m \u001b[31m42.1 MB/s\u001b[0m eta \u001b[36m0:00:00\u001b[0m\n",
            "\u001b[2K   \u001b[90m━━━━━━━━━━━━━━━━━━━━━━━━━━━━━━━━━━━━━━━━\u001b[0m \u001b[32m117.8/117.8 kB\u001b[0m \u001b[31m7.3 MB/s\u001b[0m eta \u001b[36m0:00:00\u001b[0m\n",
            "\u001b[2K   \u001b[90m━━━━━━━━━━━━━━━━━━━━━━━━━━━━━━━━━━━━━━━━\u001b[0m \u001b[32m722.2/722.2 kB\u001b[0m \u001b[31m29.0 MB/s\u001b[0m eta \u001b[36m0:00:00\u001b[0m\n",
            "\u001b[?25h  Building wheel for rpcq (setup.py) ... \u001b[?25l\u001b[?25hdone\n",
            "installed cirq.\n"
          ]
        }
      ],
      "source": [
        "try:\n",
        "    import cirq\n",
        "except ImportError:\n",
        "    print(\"installing cirq...\")\n",
        "    !pip install --quiet cirq\n",
        "    print(\"installed cirq.\")\n",
        "    import cirq"
      ]
    },
    {
      "cell_type": "markdown",
      "source": [
        "## Setting Up the Our Notebook. A project by Hamza Khan 20K-**1733**"
      ],
      "metadata": {
        "id": "TPbj0xM_DY2s"
      }
    },
    {
      "cell_type": "markdown",
      "source": [
        "# Variational Quantum Classifier (VQC) with Google Cirq - Fast Implementation\n",
        "Welcome to this quantum machine learning experiment! 🚀 This notebook demonstrates how we can use **Google Cirq** to implement a **Variational Quantum Classifier (VQC)** on real-world data.\n",
        "\n",
        "### Highlights:\n",
        "1. **Designed for Immediate Results**: This notebook has been streamlined for speed by reducing dataset size and iterations, making it perfect for testing concepts quickly.\n",
        "2. **Visualization Included**: At the end, you'll see a graph comparing predictions and ground truth for quick insights into the model's performance.\n",
        "\n",
        "Let’s dive into the realm of **quantum-enhanced machine learning**! 🌌\n"
      ],
      "metadata": {
        "id": "tNNt2qVRDtZc"
      }
    },
    {
      "cell_type": "markdown",
      "source": [
        "I will begin by importing libraries. In the world of quantum, the libraries too are in superposition. We need to do our homework on compatibility, and download the right versions.\n",
        "## Step 1: Import Libraries\n",
        "We'll now load essential libraries for quantum computing (Cirq) and machine learning (pandas, sklearn). These tools will allow us to preprocess the data, build a quantum circuit, and evaluate its performance.\n"
      ],
      "metadata": {
        "id": "0iD5k3bjD6lQ"
      }
    },
    {
      "cell_type": "code",
      "source": [
        "import cirq\n",
        "import numpy as np\n",
        "import pandas as pd\n",
        "from sklearn.model_selection import train_test_split\n",
        "from sklearn.preprocessing import StandardScaler\n",
        "from scipy.optimize import minimize\n",
        "import matplotlib.pyplot as plt"
      ],
      "metadata": {
        "id": "t906faZ2EIhG"
      },
      "execution_count": 9,
      "outputs": []
    },
    {
      "cell_type": "markdown",
      "source": [
        "## Load and Preprocess the Dataset\n",
        "Loading and Preprocessing the Dataset will be our next step. The dataset is the ingrediant of every Machine Learning and Deep LEarning project. Without it, there is no main course, however we cannot serve it raw. Ingrediants are available to everyone, but it's preperation and pre-processing is what differentiates between a skilled and an amature chef!\n",
        "\n",
        "We’re using the **Statlog Heart Disease dataset** for this experiment. It’s a real-world dataset often used in classification tasks. Here’s what we’ll do:\n",
        "1. Load the data.\n",
        "2. Scale the features (important for consistent quantum encoding).\n",
        "3. Split the data into training (70%) and testing (30%) subsets.\n",
        "\n",
        "Let’s reduce the number of features and samples to match quantum limits (4 qubits). This ensures quick execution while retaining enough complexity for meaningful results. Here, I am limited by compute time and if you too are using google collab, I beleive our approach should be to irst see if the pipeline works, and then increase variables for accuracy.\n"
      ],
      "metadata": {
        "id": "HoVNJmiTEOxk"
      }
    },
    {
      "cell_type": "code",
      "source": [
        "# Load dataset\n",
        "statlog_url = \"https://archive.ics.uci.edu/ml/machine-learning-databases/statlog/heart/heart.dat\"\n",
        "column_names = [\n",
        "    \"Age\", \"Sex\", \"ChestPainType\", \"RestBP\", \"Cholesterol\", \"FBS\", \"RestECG\",\n",
        "    \"MaxHR\", \"ExAng\", \"Oldpeak\", \"Slope\", \"Ca\", \"Thal\", \"Target\"\n",
        "]\n",
        "heart_data = pd.read_csv(statlog_url, sep=\" \", header=None, names=column_names, engine=\"python\")\n",
        "\n",
        "# Reduce dataset size for speed\n",
        "heart_data = heart_data.sample(50, random_state=42)\n",
        "\n",
        "# Separate features and target\n",
        "X = heart_data.drop(columns=[\"Target\"])\n",
        "y = heart_data[\"Target\"]\n",
        "\n",
        "# Scale features\n",
        "scaler = StandardScaler()\n",
        "X_scaled = scaler.fit_transform(X)\n",
        "\n",
        "# Reduce features to match qubit constraints\n",
        "X_reduced = X_scaled[:, :4]\n",
        "\n",
        "# Split data\n",
        "X_train, X_test, y_train, y_test = train_test_split(X_reduced, y, test_size=0.3, random_state=42)\n",
        "\n",
        "print(\"Dataset loaded and preprocessed! Training data shape:\", X_train.shape)\n"
      ],
      "metadata": {
        "id": "ym9tgsthE-nL",
        "outputId": "abe78144-3a4a-4a89-968c-0a1e52aa594d",
        "colab": {
          "base_uri": "https://localhost:8080/"
        }
      },
      "execution_count": 10,
      "outputs": [
        {
          "output_type": "stream",
          "name": "stdout",
          "text": [
            "Dataset loaded and preprocessed! Training data shape: (35, 4)\n"
          ]
        }
      ]
    },
    {
      "cell_type": "markdown",
      "source": [
        "## On towards the Quantum Circuit\n",
        "We need to design the quantum feature map and ansatz. There is no one way of doing it. Some people like adding comolexity in order to make the circuit effeciant, however that comes at the cost of accuracy because current hardware limitations intorduce noise.\n",
        "\n",
        "In machine learning, feature maps encode data into a higher-dimensional space. Similarly, our **quantum feature map** translates classical data into a quantum state.\n",
        "\n",
        "We also build a variational **ansatz**, which is trained to find an optimal decision boundary for the classification task.\n"
      ],
      "metadata": {
        "id": "0VcykyNRE_vy"
      }
    },
    {
      "cell_type": "code",
      "source": [
        "# Define feature map\n",
        "def feature_map(qubits, features):\n",
        "    circuit = cirq.Circuit()\n",
        "    for i, qubit in enumerate(qubits):\n",
        "        circuit.append(cirq.rx(features[i])(qubit))\n",
        "    return circuit\n",
        "\n",
        "# Define ansatz\n",
        "def custom_ansatz(qubits, params):\n",
        "    circuit = cirq.Circuit()\n",
        "    idx = 0\n",
        "    for qubit in qubits:\n",
        "        circuit.append(cirq.ry(params[idx])(qubit))\n",
        "        idx += 1\n",
        "    for i in range(len(qubits) - 1):\n",
        "        circuit.append(cirq.CZ(qubits[i], qubits[i + 1]))\n",
        "    return circuit\n",
        "\n",
        "# Combine feature map and ansatz\n",
        "def vqc_circuit(qubits, features, params):\n",
        "    circuit = cirq.Circuit()\n",
        "    circuit += feature_map(qubits, features)\n",
        "    circuit += custom_ansatz(qubits, params)\n",
        "    return circuit\n",
        "\n",
        "print(\"Quantum circuit components defined!\")\n"
      ],
      "metadata": {
        "id": "xGKdeTb1Fmuy",
        "outputId": "90dac6f7-219b-4bcc-c1c3-d72989b1384a",
        "colab": {
          "base_uri": "https://localhost:8080/"
        }
      },
      "execution_count": 11,
      "outputs": [
        {
          "output_type": "stream",
          "name": "stdout",
          "text": [
            "Quantum circuit components defined!\n"
          ]
        }
      ]
    },
    {
      "cell_type": "markdown",
      "source": [
        "## Training the Variational Classifier\n",
        "\n",
        "In this example, I will use a classical optimizer to adjust the quantum circuit’s parameters and minimize the classification error. For quick results, optimization iterations are capped at 20. I will later explain how to increase the accuracy.\n"
      ],
      "metadata": {
        "id": "vltBHmYPFppo"
      }
    },
    {
      "cell_type": "code",
      "source": [
        "# Cost function\n",
        "def cost_function(params, X, y, qubits, simulator):\n",
        "    predictions = []\n",
        "    for i in range(len(X)):\n",
        "        circuit = vqc_circuit(qubits, X[i], params)\n",
        "        circuit.append(cirq.measure(qubits[-1], key=\"result\"))\n",
        "        result = simulator.run(circuit, repetitions=10)\n",
        "        counts = result.histogram(key=\"result\")\n",
        "        predictions.append(1 if counts.get(1, 0) > counts.get(0, 0) else 0)\n",
        "\n",
        "    loss = np.mean((np.array(predictions) - y) ** 2)\n",
        "    return loss\n",
        "\n",
        "# Optimize parameters\n",
        "num_qubits = X_train.shape[1]\n",
        "qubits = [cirq.GridQubit(0, i) for i in range(num_qubits)]\n",
        "simulator = cirq.Simulator()\n",
        "initial_params = np.random.rand(num_qubits)\n",
        "\n",
        "result = minimize(\n",
        "    cost_function,\n",
        "    initial_params,\n",
        "    args=(X_train, y_train.values, qubits, simulator),\n",
        "    method=\"COBYLA\",\n",
        "    options={\"maxiter\": 20}  # Limit iterations for quick results\n",
        ")\n",
        "\n",
        "optimal_params = result.x\n",
        "print(\"Training completed! Optimal parameters found.\")\n"
      ],
      "metadata": {
        "id": "DFTYTChpF9Uz",
        "outputId": "219fbd52-2888-4dac-8f01-c8b1d050caf0",
        "colab": {
          "base_uri": "https://localhost:8080/"
        }
      },
      "execution_count": 12,
      "outputs": [
        {
          "output_type": "stream",
          "name": "stdout",
          "text": [
            "Training completed! Optimal parameters found.\n"
          ]
        }
      ]
    },
    {
      "cell_type": "markdown",
      "source": [
        "## I am adding result visualizaton, and testing.\n",
        "This will serve as a good start in order to understand the next plan of action for optimizing either the circuit design or the parameters. Optimisation begins when we understand what causes our model to underperform.\n",
        "\n",
        "\n"
      ],
      "metadata": {
        "id": "5-19_x2VGDEI"
      }
    },
    {
      "cell_type": "code",
      "source": [
        "# Predict function\n",
        "def predict(X, params, qubits, simulator):\n",
        "    predictions = []\n",
        "    for i in range(len(X)):\n",
        "        circuit = vqc_circuit(qubits, X[i], params)\n",
        "        circuit.append(cirq.measure(qubits[-1], key=\"result\"))\n",
        "        result = simulator.run(circuit, repetitions=10)\n",
        "        counts = result.histogram(key=\"result\")\n",
        "        predictions.append(1 if counts.get(1, 0) > counts.get(0, 0) else 0)\n",
        "    return np.array(predictions)\n",
        "\n",
        "# Test the model\n",
        "y_pred = predict(X_test, optimal_params, qubits, simulator)\n",
        "accuracy = np.mean(y_pred == y_test.values)\n",
        "\n",
        "# Visualize results\n",
        "plt.figure(figsize=(8, 5))\n",
        "plt.scatter(range(len(y_test)), y_test, color='blue', label=\"Ground Truth\")\n",
        "plt.scatter(range(len(y_pred)), y_pred, color='red', label=\"Predictions\", marker='x')\n",
        "plt.title(\"VQC Predictions vs Ground Truth\")\n",
        "plt.xlabel(\"Sample Index\")\n",
        "plt.ylabel(\"Class\")\n",
        "plt.legend()\n",
        "plt.show()\n",
        "\n",
        "print(f\"Model Accuracy: {accuracy * 100:.2f}%\")\n"
      ],
      "metadata": {
        "id": "Mcxl4JfZGdk7",
        "outputId": "5844c046-e2ed-4b99-e796-780e3349af83",
        "colab": {
          "base_uri": "https://localhost:8080/",
          "height": 504
        }
      },
      "execution_count": 13,
      "outputs": [
        {
          "output_type": "display_data",
          "data": {
            "text/plain": [
              "<Figure size 800x500 with 1 Axes>"
            ],
            "image/png": "[encoded data removed]"
          },
          "metadata": {}
        },
        {
          "output_type": "stream",
          "name": "stdout",
          "text": [
            "Model Accuracy: 40.00%\n"
          ]
        }
      ]
    },
    {
      "cell_type": "markdown",
      "source": [
        "## What is the ansatz?\n",
        "\n",
        "The ansatz is the trainable part of a quantum circuit. It's a parameterized quantum circuit that acts as a \"model\" for our quantum machine learning task. By adjusting the parameters of the ansatz during training, we try to find an optimal decision boundary for classification.\n",
        "\n",
        "### How to Modify the Ansatz\n",
        "1. **Add More Layers**: Adding repeated layers of parameterized gates and entanglement gates increases the circuit's capacity to model complex relationships.\n",
        "2. **Use Different Parameterized Gates**: Instead of only using `RY`, try adding `RX` or `RZ` gates.\n",
        "3. **Add More Entanglement**: Use controlled gates like `CZ` or `CNOT` to increase qubit interaction.\n",
        "\n",
        "Below is the current ansatz and how you can modify it.\n"
      ],
      "metadata": {
        "id": "P1pZ6Wi6G1wp"
      }
    },
    {
      "cell_type": "code",
      "source": [
        "# Define a parameterized ansatz (students can experiment here)\n",
        "def customizable_ansatz(qubits, params, layers=1):\n",
        "    \"\"\"\n",
        "    Args:\n",
        "    - qubits: List of qubits in the circuit\n",
        "    - params: List of parameters to be optimized\n",
        "    - layers: Number of layers in the ansatz\n",
        "\n",
        "    Returns:\n",
        "    - A Cirq Circuit object\n",
        "    \"\"\"\n",
        "    circuit = cirq.Circuit()\n",
        "    idx = 0\n",
        "\n",
        "    # Create `layers` layers of gates\n",
        "    for _ in range(layers):\n",
        "        # Add parameterized single-qubit gates\n",
        "        for qubit in qubits:\n",
        "            circuit.append(cirq.ry(params[idx])(qubit))\n",
        "            circuit.append(cirq.rz(params[idx + 1])(qubit))\n",
        "            idx += 2\n",
        "\n",
        "        # Add entanglement between adjacent qubits\n",
        "        for i in range(len(qubits) - 1):\n",
        "            circuit.append(cirq.CZ(qubits[i], qubits[i + 1]))\n",
        "\n",
        "    return circuit\n"
      ],
      "metadata": {
        "id": "tcFlqO6jG7sO"
      },
      "execution_count": 14,
      "outputs": []
    },
    {
      "cell_type": "markdown",
      "source": [
        "Now, I am going to increase the complxity of the ansatz, and we will notice more computational time, on this google collab CPU runtime.\n",
        "\n",
        "Experiment with:\n",
        "- Increasing the number of layers (`layers=2, 3, ...`).\n",
        "- Using different parameterized gates (`RX`, `RZ`).\n",
        "- Changing the entanglement pattern (e.g., using `CNOT` gates instead of `CZ`).\n",
        "\n",
        "Now observe how playing around with the ansatz changes the accuracy of the circuit, below.\n"
      ],
      "metadata": {
        "id": "Ss-psMEkHCVo"
      }
    },
    {
      "cell_type": "code",
      "source": [
        "# Define qubits and parameters\n",
        "num_qubits = 4\n",
        "qubits = [cirq.GridQubit(0, i) for i in range(num_qubits)]\n",
        "\n",
        "# Increase the number of layers for more complexity\n",
        "num_layers = 3\n",
        "num_params = num_qubits * 2 * num_layers\n",
        "parameters = np.random.rand(num_params)\n",
        "\n",
        "# Create the circuit with the customizable ansatz\n",
        "circuit = customizable_ansatz(qubits, parameters, layers=num_layers)\n",
        "\n",
        "# Visualize the circuit\n",
        "print(\"Here is the quantum circuit with our custom ansatz:\")\n",
        "print(circuit)\n",
        "\n",
        "# Use Cirq's built-in visualization\n",
        "\n",
        "plt.show()\n"
      ],
      "metadata": {
        "id": "Ku-vVOFGHJn-",
        "outputId": "6c7e7246-1d9a-4d98-e5e5-039c1ba6e3f1",
        "colab": {
          "base_uri": "https://localhost:8080/"
        }
      },
      "execution_count": 18,
      "outputs": [
        {
          "output_type": "stream",
          "name": "stdout",
          "text": [
            "Here is the quantum circuit with our custom ansatz:\n",
            "(0, 0): ───Ry(0.297π)───Rz(0.238π)───@───Ry(0.294π)───Rz(0.093π)────────────────@────────────Ry(0.146π)───Rz(0.077π)────────────────@────────────────────\n",
            "                                     │                                          │                                                   │\n",
            "(0, 1): ───Ry(0.229π)───Rz(0.302π)───@───@────────────Ry(0.145π)───Rz(0.315π)───@────────────@────────────Ry(0.256π)───Rz(0.025π)───@────────────@───────\n",
            "                                         │                                                   │                                                   │\n",
            "(0, 2): ───Ry(0.042π)───Rz(0.166π)───────@────────────@────────────Ry(0.097π)───Rz(0.116π)───@────────────@────────────Ry(0.296π)───Rz(0.231π)───@───@───\n",
            "                                                      │                                                   │                                          │\n",
            "(0, 3): ───Ry(0.188π)───Rz(0.144π)────────────────────@────────────Ry(0.311π)───Rz(0.156π)────────────────@────────────Ry(0.237π)───Rz(0.01π)────────@───\n"
          ]
        }
      ]
    },
    {
      "cell_type": "markdown",
      "source": [
        "##**Assignment 2 for Quantum computing, by 20K-1733.**"
      ],
      "metadata": {
        "id": "9XbVnziQH2cx"
      }
    }
  ],
  "metadata": {
    "colab": {
      "name": "simulation.ipynb",
      "toc_visible": true,
      "provenance": [],
      "include_colab_link": true
    },
    "kernelspec": {
      "display_name": "Python 3",
      "name": "python3"
    }
  },
  "nbformat": 4,
  "nbformat_minor": 0
}